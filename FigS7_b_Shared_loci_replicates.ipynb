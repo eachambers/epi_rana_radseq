{
 "cells": [
  {
   "cell_type": "markdown",
   "metadata": {
    "collapsed": true
   },
   "source": [
    "## Load dependencies"
   ]
  },
  {
   "cell_type": "code",
   "execution_count": 2,
   "metadata": {
    "collapsed": true
   },
   "outputs": [],
   "source": [
    "import pandas as pd\n",
    "import numpy\n",
    "import itertools\n",
    "import csv\n",
    "import sys\n",
    "import os\n",
    "import glob"
   ]
  },
  {
   "cell_type": "markdown",
   "metadata": {},
   "source": [
    "## Run script\n",
    "\n",
    "The following will take the output from `Split_loci.ipynb` script (contained within respective output folders for each taxon and sampling depth), will search for occurrences of replicates sharing a locus, and will count those."
   ]
  },
  {
   "cell_type": "markdown",
   "metadata": {},
   "source": [
    "### For Epipedobates"
   ]
  },
  {
   "cell_type": "code",
   "execution_count": 6,
   "metadata": {},
   "outputs": [
    {
     "name": "stdout",
     "output_type": "stream",
     "text": [
      "Ahah shared loci:  291\n",
      "Eant shared loci:  6644\n"
     ]
    }
   ],
   "source": [
    "path = './epi_t1_output/'\n",
    "\n",
    "files = os.listdir(path)\n",
    "counterAhah = 0\n",
    "counterEant = 0\n",
    "\n",
    "for file in files:\n",
    "    f=open((os.path.join(path, file)),'r')\n",
    "    for line in f.readlines():\n",
    "        if 'Ahah_R0089a' and 'Ahah_R0089b' in line:\n",
    "            counterAhah += 1\n",
    "        if 'Eant_T6859a' and 'Eant_T6859b' in line:\n",
    "            counterEant += 1\n",
    "print \"Ahah shared loci: \", counterAhah\n",
    "print \"Eant shared loci: \", counterEant"
   ]
  },
  {
   "cell_type": "markdown",
   "metadata": {},
   "source": [
    "### For Rana"
   ]
  },
  {
   "cell_type": "code",
   "execution_count": 5,
   "metadata": {},
   "outputs": [
    {
     "name": "stdout",
     "output_type": "stream",
     "text": [
      "Rber shared loci:  107095\n",
      "Rchi shared loci:  57003\n"
     ]
    }
   ],
   "source": [
    "path = './rana_t1_output/'\n",
    "\n",
    "files = os.listdir(path)\n",
    "counterRber = 0\n",
    "counterRchi = 0\n",
    "\n",
    "for file in files:\n",
    "    f=open((os.path.join(path, file)),'r')\n",
    "    for line in f.readlines():\n",
    "        if 'Rber_T1113a' and 'Rber_T1113b' in line:\n",
    "            counterRber += 1\n",
    "        if 'Rchi_T2034a' and 'Rchi_T2034b' in line:\n",
    "            counterRchi += 1\n",
    "print \"Rber shared loci: \", counterRber\n",
    "print \"Rchi shared loci: \", counterRchi"
   ]
  },
  {
   "cell_type": "code",
   "execution_count": null,
   "metadata": {
    "collapsed": true
   },
   "outputs": [],
   "source": []
  }
 ],
 "metadata": {
  "kernelspec": {
   "display_name": "Python 2",
   "language": "python",
   "name": "python2"
  },
  "language_info": {
   "codemirror_mode": {
    "name": "ipython",
    "version": 2
   },
   "file_extension": ".py",
   "mimetype": "text/x-python",
   "name": "python",
   "nbconvert_exporter": "python",
   "pygments_lexer": "ipython2",
   "version": "2.7.14"
  }
 },
 "nbformat": 4,
 "nbformat_minor": 2
}

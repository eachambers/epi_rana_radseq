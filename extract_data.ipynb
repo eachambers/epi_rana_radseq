{
 "cells": [
  {
   "cell_type": "code",
   "execution_count": 2,
   "metadata": {
    "collapsed": true
   },
   "outputs": [],
   "source": [
    "import pandas as pd\n",
    "import numpy\n",
    "import itertools\n",
    "import csv\n",
    "import glob"
   ]
  },
  {
   "cell_type": "code",
   "execution_count": 3,
   "metadata": {},
   "outputs": [
    {
     "name": "stdout",
     "output_type": "stream",
     "text": [
      "['epi2brad/clust_91_outfiles/clust_91_stats.txt', 'epi2brad/clust_90_outfiles/clust_90_stats.txt', 'epi2brad/clust_86_outfiles/clust_86_stats.txt', 'epi2brad/clust_87_outfiles/clust_87_stats.txt', 'epi2brad/clust_81_outfiles/clust_81_stats.txt', 'epi2brad/clust_80_outfiles/clust_80_stats.txt', 'epi2brad/clust_84_outfiles/clust_84_stats.txt', 'epi2brad/clust_92_outfiles/clust_92_stats.txt', 'epi2brad/clust_93_outfiles/clust_93_stats.txt', 'epi2brad/epi2brad_outfiles/epi2brad_stats.txt', 'epi2brad/clust_94_outfiles/clust_94_stats.txt', 'epi2brad/clust_88_outfiles/clust_88_stats.txt', 'epi2brad/clust_89_outfiles/clust_89_stats.txt', 'epi2brad/clust_82_outfiles/clust_82_stats.txt', 'epi2brad/clust_83_outfiles/clust_83_stats.txt']\n"
     ]
    }
   ],
   "source": [
    "# Make a list of the file names I want to iterate through using glob\n",
    "epifilenames = glob.glob('epi2brad/*outfiles/*stats.txt')\n",
    "print epifilenames"
   ]
  },
  {
   "cell_type": "code",
   "execution_count": 4,
   "metadata": {},
   "outputs": [
    {
     "name": "stdout",
     "output_type": "stream",
     "text": [
      "58\n",
      "      var  sum_var     pis  sum_pis\n",
      "\n",
      "75\n",
      "## Final Sample stats summary\n",
      "\n",
      "[['0', '64586', '0', '114007', '0', '91'], ['1', '41325', '41325', '30992', '30992', '91'], ['2', '31134', '103593', '15414', '61820', '91'], ['3', '18253', '158352', '5758', '79094', '91'], ['4', '7153', '186964', '1002', '83102', '91'], ['5', '3047', '202199', '223', '84217', '91'], ['6', '1238', '209627', '51', '84523', '91'], ['7', '477', '212966', '14', '84621', '91'], ['8', '154', '214198', '4', '84653', '91'], ['9', '66', '214792', '1', '84662', '91'], ['10', '21', '215002', '0', '84662', '91'], ['11', '6', '215068', '0', '84662', '91'], ['12', '2', '215092', '0', '84662', '91'], ['13', '4', '215144', '0', '84662', '91']]\n",
      "   number variable sum_var     pis sum_pis clust_threshold\n",
      "0       0    64586       0  114007       0              91\n",
      "1       1    41325   41325   30992   30992              91\n",
      "2       2    31134  103593   15414   61820              91\n",
      "3       3    18253  158352    5758   79094              91\n",
      "4       4     7153  186964    1002   83102              91\n",
      "5       5     3047  202199     223   84217              91\n",
      "6       6     1238  209627      51   84523              91\n",
      "7       7      477  212966      14   84621              91\n",
      "8       8      154  214198       4   84653              91\n",
      "9       9       66  214792       1   84662              91\n",
      "10     10       21  215002       0   84662              91\n",
      "11     11        6  215068       0   84662              91\n",
      "12     12        2  215092       0   84662              91\n",
      "13     13        4  215144       0   84662              91\n"
     ]
    }
   ],
   "source": [
    "# The *stats.txt files produced by iPyrad have two blocks of data we want to retrieve: the distribution of SNPs\n",
    "# (vars and pis) per locus, and the final sample stats summary.\n",
    "# Start with a list that will contain the first set of data, distribution of SNPs\n",
    "snp_dist = []\n",
    "\n",
    "# To just see line numbers within the file:\n",
    "#with open(\"epi2brad/clust_84_outfiles/clust_84_stats.txt\", \"rt\") as infile:\n",
    "#   for line in infile:\n",
    "#        lines.append(line)\n",
    "#print(list(enumerate(lines)))\n",
    "\n",
    "#for name in epifilenames:\n",
    "#    open(name,'rt') # iterate through filenames generated from glob\n",
    "\n",
    "# for now, just leave hard-coded for epifilenames[0]; happens to be clust_threshold=91\n",
    "\n",
    "infile=open(epifilenames[0], 'rt')\n",
    "counter=0\n",
    "for line in infile:\n",
    "    counter+=1\n",
    "    if 'var  sum_var' in line:\n",
    "        varline=counter\n",
    "        print varline # not necessary but want to just check\n",
    "        print line\n",
    "    elif '## Final' in line:\n",
    "        endline=counter\n",
    "        print endline\n",
    "        print line\n",
    "    else:\n",
    "        continue\n",
    "\n",
    "infile.close() # because it's iterated through the whole file already so we need to close and reopen\n",
    "\n",
    "#infile=open('epi2brad/clust_84_outfiles/clust_84_stats.txt','rt')\n",
    "infile=open(epifilenames[0], 'rt')\n",
    "\n",
    "#assert itertools.islice(infile, endline-2, endline-1) # throw an error if endline-2 isn't a blank line\n",
    "\n",
    "for lines in itertools.islice(infile, varline, endline-3):\n",
    "    lines2 = lines.strip().split()\n",
    "    lines2.append('91') # eventually change to whatever file it's on\n",
    "    snp_dist.append(lines2)\n",
    "        \n",
    "print snp_dist\n",
    "\n",
    "infile.close()\n",
    "\n",
    "snpdist_labels=['number','variable','sum_var','pis', 'sum_pis', 'clust_threshold']\n",
    "df_snpdist = pd.DataFrame.from_records(snp_dist, columns=snpdist_labels)\n",
    "\n",
    "print df_snpdist\n",
    "\n",
    "df_snpdist.to_csv(\"./epi2brad_clust_91_snpdist.csv\")"
   ]
  },
  {
   "cell_type": "code",
   "execution_count": 5,
   "metadata": {},
   "outputs": [
    {
     "name": "stdout",
     "output_type": "stream",
     "text": [
      "['epi2brad/clust_91_outfiles/clust_91_stats.txt', 'epi2brad/clust_90_outfiles/clust_90_stats.txt', 'epi2brad/clust_86_outfiles/clust_86_stats.txt', 'epi2brad/clust_87_outfiles/clust_87_stats.txt', 'epi2brad/clust_81_outfiles/clust_81_stats.txt', 'epi2brad/clust_80_outfiles/clust_80_stats.txt', 'epi2brad/clust_84_outfiles/clust_84_stats.txt', 'epi2brad/clust_92_outfiles/clust_92_stats.txt', 'epi2brad/clust_93_outfiles/clust_93_stats.txt', 'epi2brad/epi2brad_outfiles/epi2brad_stats.txt', 'epi2brad/clust_94_outfiles/clust_94_stats.txt', 'epi2brad/clust_88_outfiles/clust_88_stats.txt', 'epi2brad/clust_89_outfiles/clust_89_stats.txt', 'epi2brad/clust_82_outfiles/clust_82_stats.txt', 'epi2brad/clust_83_outfiles/clust_83_stats.txt']\n"
     ]
    }
   ],
   "source": [
    "print epifilenames"
   ]
  },
  {
   "cell_type": "code",
   "execution_count": 75,
   "metadata": {},
   "outputs": [
    {
     "name": "stdout",
     "output_type": "stream",
     "text": [
      "77\n",
      "                  state  reads_raw  reads_passed_filter  clusters_total  clusters_hidepth  hetero_est  error_est  reads_consens  loci_in_assembly\n",
      "\n",
      "[['Ahah_R0089a_GTGA', '7', '899185', '899185', '263377', '187331', '0.053375', '0.027391', '186628', '57420', '91'], ['Ahah_R0089b_TCAG', '7', '647552', '647552', '208439', '127445', '0.040318', '0.027654', '126861', '53996', '91'], ['Ahah_R0090_GCTT', '7', '573267', '573267', '192735', '110106', '0.055877', '0.026345', '109569', '52834', '91'], ['Eant_T6857_ACCA', '7', '580913', '580913', '194899', '127422', '0.039920', '0.027235', '127034', '80158', '91'], ['Eant_T6859a_AGTG', '7', '668442', '668442', '239620', '153847', '0.038327', '0.026792', '153377', '84646', '91'], ['Eant_T6859b_CATC', '7', '776853', '776853', '250457', '184397', '0.044036', '0.026574', '183894', '92773', '91'], ['Ebou_R0153_CTAC', '7', '544642', '544642', '158842', '114067', '0.050679', '0.026216', '113697', '45577', '91'], ['Ebou_R0156_TGTC', '7', '554437', '554437', '166776', '118703', '0.053375', '0.027391', '118320', '47723', '91'], ['Etri_T6836_GTGT', '7', '619235', '619235', '200434', '140996', '0.042734', '0.027512', '140547', '72422', '91'], ['Etri_T6842_AGAC', '7', '506343', '506343', '167256', '114130', '0.053375', '0.027391', '113744', '60718', '91'], ['Snub_R0158_TCAC', '7', '504202', '504202', '169151', '112192', '0.037868', '0.027091', '111870', '21620', '91'], ['Snub_R0159_GACT', '7', '583024', '583024', '197540', '131022', '0.036974', '0.027048', '130645', '24809', '91']]\n",
      "              sample state reads_raw reads_passed clust_total clust_hidepth  \\\n",
      "0   Ahah_R0089a_GTGA     7    899185       899185      263377        187331   \n",
      "1   Ahah_R0089b_TCAG     7    647552       647552      208439        127445   \n",
      "2    Ahah_R0090_GCTT     7    573267       573267      192735        110106   \n",
      "3    Eant_T6857_ACCA     7    580913       580913      194899        127422   \n",
      "4   Eant_T6859a_AGTG     7    668442       668442      239620        153847   \n",
      "5   Eant_T6859b_CATC     7    776853       776853      250457        184397   \n",
      "6    Ebou_R0153_CTAC     7    544642       544642      158842        114067   \n",
      "7    Ebou_R0156_TGTC     7    554437       554437      166776        118703   \n",
      "8    Etri_T6836_GTGT     7    619235       619235      200434        140996   \n",
      "9    Etri_T6842_AGAC     7    506343       506343      167256        114130   \n",
      "10   Snub_R0158_TCAC     7    504202       504202      169151        112192   \n",
      "11   Snub_R0159_GACT     7    583024       583024      197540        131022   \n",
      "\n",
      "   hetero_est error_est reads_consens loci_assembly clust_threshold  \n",
      "0    0.053375  0.027391        186628         57420              91  \n",
      "1    0.040318  0.027654        126861         53996              91  \n",
      "2    0.055877  0.026345        109569         52834              91  \n",
      "3    0.039920  0.027235        127034         80158              91  \n",
      "4    0.038327  0.026792        153377         84646              91  \n",
      "5    0.044036  0.026574        183894         92773              91  \n",
      "6    0.050679  0.026216        113697         45577              91  \n",
      "7    0.053375  0.027391        118320         47723              91  \n",
      "8    0.042734  0.027512        140547         72422              91  \n",
      "9    0.053375  0.027391        113744         60718              91  \n",
      "10   0.037868  0.027091        111870         21620              91  \n",
      "11   0.036974  0.027048        130645         24809              91  \n"
     ]
    }
   ],
   "source": [
    "# Another list containing the second set, the summary stats\n",
    "sum_stats = []\n",
    "\n",
    "infile=open(epifilenames[0], 'rt') # again, hard-coded for clustering threshold 91\n",
    "counter=0\n",
    "for line in infile:\n",
    "    counter+=1\n",
    "    if 'state  reads_raw' in line:\n",
    "        stateline=counter\n",
    "        print varline # not necessary but want to just check\n",
    "        print line\n",
    "    else:\n",
    "        continue\n",
    "     \n",
    "infile.close() # because it's iterated through the whole file already so we need to close and reopen\n",
    "\n",
    "infile=open(epifilenames[0], 'rt')\n",
    "\n",
    "for lines in itertools.islice(infile, stateline, stateline+12):\n",
    "    lines2 = lines.strip().split()\n",
    "    lines2.append('91') # eventually change to whatever file it's on\n",
    "    sum_stats.append(lines2)\n",
    "        \n",
    "print sum_stats\n",
    "\n",
    "infile.close()\n",
    "\n",
    "sumstats_labels=['sample', 'state', 'reads_raw', 'reads_passed', 'clust_total', 'clust_hidepth','hetero_est','error_est','reads_consens','loci_assembly','clust_threshold']\n",
    "df_sumstats = pd.DataFrame.from_records(sum_stats, columns=sumstats_labels)\n",
    "\n",
    "print df_sumstats\n",
    "\n",
    "df_sumstats.to_csv(\"./epi2brad_clust_91_sumstats.csv\")"
   ]
  },
  {
   "cell_type": "code",
   "execution_count": null,
   "metadata": {
    "collapsed": true
   },
   "outputs": [],
   "source": []
  }
 ],
 "metadata": {
  "kernelspec": {
   "display_name": "Python 2",
   "language": "python",
   "name": "python2"
  },
  "language_info": {
   "codemirror_mode": {
    "name": "ipython",
    "version": 2
   },
   "file_extension": ".py",
   "mimetype": "text/x-python",
   "name": "python",
   "nbconvert_exporter": "python",
   "pygments_lexer": "ipython2",
   "version": "2.7.14"
  }
 },
 "nbformat": 4,
 "nbformat_minor": 2
}

{
 "cells": [
  {
   "cell_type": "code",
   "execution_count": 1,
   "metadata": {
    "collapsed": true
   },
   "outputs": [],
   "source": [
    "import pandas as pd\n",
    "import itertools\n",
    "import csv\n",
    "import sys\n",
    "import os\n",
    "import glob"
   ]
  },
  {
   "cell_type": "markdown",
   "metadata": {},
   "source": [
    "The following takes the `.loci` files output from iPyrad (recall: only our ddRAD datasets), splits the file by locus (split by //), and outputs each locus that is shared by at least two individuals into a separate `file*.txt` file in order to eventually count the number of shared loci between replicate samples."
   ]
  },
  {
   "cell_type": "code",
   "execution_count": 4,
   "metadata": {
    "collapsed": true
   },
   "outputs": [],
   "source": [
    "## Do this eight times, for each of the sampling depths and each Epipedobates and Rana\n",
    "inputfile = \"../2_Bioinformatics/iPyrad/sampling_depth/epiddrad_t1_4_outfiles/epiddrad_t1.loci\"\n",
    "splittingtxt = '//'\n",
    "filenameformat = 'epiddrad_t1_output_file#.txt' # this will create an output folder; be sure to change each time!\n",
    "\n",
    "def output(filenum,line):\n",
    "    filename = filenameformat.replace('#',str(filenum) )\n",
    "    fout=open(filename,'w')\n",
    "    fout.write(line)\n",
    "    fout.close\n",
    "\n",
    "file = open(inputfile)\n",
    "lines=file.read().split(splittingtxt)\n",
    "\n",
    "for i in range(0,len(lines)):\n",
    "    output(i+1, lines[i])"
   ]
  },
  {
   "cell_type": "markdown",
   "metadata": {},
   "source": [
    "Move relevant files into respective folders to clean things up."
   ]
  },
  {
   "cell_type": "code",
   "execution_count": 6,
   "metadata": {},
   "outputs": [
    {
     "name": "stdout",
     "output_type": "stream",
     "text": [
      "mkdir: epi_t1_output: File exists\n",
      "/bin/sh: /usr/bin/xargs: Argument list too long\n"
     ]
    }
   ],
   "source": [
    "!mkdir epi_t1_output\n",
    "\n",
    "!xargs mv epiddrad_t1_output_file* epi_t1_output # may have to do this manually if argument list is too long"
   ]
  }
 ],
 "metadata": {
  "kernelspec": {
   "display_name": "Python 2",
   "language": "python",
   "name": "python2"
  },
  "language_info": {
   "codemirror_mode": {
    "name": "ipython",
    "version": 2
   },
   "file_extension": ".py",
   "mimetype": "text/x-python",
   "name": "python",
   "nbconvert_exporter": "python",
   "pygments_lexer": "ipython2",
   "version": "2.7.14"
  }
 },
 "nbformat": 4,
 "nbformat_minor": 2
}
